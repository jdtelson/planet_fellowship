{
 "cells": [
  {
   "cell_type": "markdown",
   "id": "c8c9cd47",
   "metadata": {},
   "source": [
    "Google Earth Engine ingestion workflow for PSScene4Band and PSScene items\n",
    "========================================================================="
   ]
  },
  {
   "cell_type": "markdown",
   "id": "00364fa5",
   "metadata": {},
   "source": [
    "# CLI Tool"
   ]
  },
  {
   "cell_type": "markdown",
   "id": "c11e7625",
   "metadata": {},
   "source": [
    "PSScene4Band items can be ordered and delivered directly to Google Earth Engine via the CLI tool that comes packaged with the `planet` python library."
   ]
  },
  {
   "cell_type": "markdown",
   "id": "41f8d623",
   "metadata": {},
   "source": [
    "In a terminal window (with your python virtual environment activated, if necessary), run `planet --help` to view the documentation for the CLI tool. The result should look something like the following.\n",
    "\n",
    "```\n",
    "$ planet --help\n",
    "Usage: planet [OPTIONS] COMMAND [ARGS]...\n",
    "\n",
    "  Planet API Client\n",
    "\n",
    "Options:\n",
    "  -w, --workers INTEGER  The number of concurrent downloads when requesting\n",
    "                         multiple scenes. - Default 4\n",
    "\n",
    "  -v, --verbose          Specify verbosity\n",
    "  -k, --api-key TEXT     Valid API key - or via ENV variable PL_API_KEY\n",
    "  -u, --base-url TEXT    Change the base Planet API URL or ENV PL_API_BASE_URL\n",
    "                         - Default https://api.planet.com/\n",
    "\n",
    "  --version              Show the version and exit.\n",
    "  --help                 Show this message and exit.\n",
    "\n",
    "Commands:\n",
    "  analytics  Commands for interacting with the Analytics API\n",
    "  data       Commands for interacting with the Data API\n",
    "  help       Get command help\n",
    "  init       Login using email/password\n",
    "  mosaics    Commands for interacting with the Mosaics API\n",
    "  orders     Commands for interacting with the Orders API\n",
    "```"
   ]
  },
  {
   "cell_type": "markdown",
   "id": "e2f26aa7",
   "metadata": {},
   "source": [
    "## Basic orders\n",
    "\n",
    "We're going to focus primarily on the `orders` functionality, starting with order creation.\n",
    "```\n",
    "$ planet orders create --help\n",
    "Usage: planet orders create [OPTIONS]\n",
    "\n",
    "  Create an order\n",
    "\n",
    "Options:\n",
    "  -pp, --pretty / -r, --no-pretty\n",
    "                                  Format JSON output\n",
    "  --item-type ITEM-TYPE           Specify an item type  [required]\n",
    "  --bundle BUNDLE                 Specify bundle  [required]\n",
    "  --tools FILE                    Path to toolchain json\n",
    "  --cloudconfig FILE              Path to cloud delivery config\n",
    "  --email                         Send email notification when Order is\n",
    "                                  complete\n",
    "\n",
    "  --clip CLIP                     Provide a GeoJSON AOI Geometry for clipping\n",
    "  --ids_from_search TEXT          Embedded data search\n",
    "  --id TEXT                       One or more comma-separated item IDs\n",
    "  --name TEXT                     [required]\n",
    "  --help                          Show this message and exit.\n",
    "```"
   ]
  },
  {
   "cell_type": "markdown",
   "id": "9bcaebd4",
   "metadata": {},
   "source": [
    "The simplest use-case for this command is creating an order from a known scene ID or a _list_ of known scene IDs.\n",
    "\n",
    "This command is all one line\n",
    "\n",
    "```\n",
    "planet orders create --item-type psscene4band --bundle analytic_sr_udm2 --id 20211201_183910_1026,20211201_183909_1026,20211201_183907_1026 --name example_order --email\n",
    "```\n",
    "\n",
    "Documentation about bundle types can be found here:\n",
    "\n",
    "https://developers.planet.com/docs/orders/product-bundles-reference/"
   ]
  },
  {
   "cell_type": "markdown",
   "id": "411c8ec2",
   "metadata": {},
   "source": [
    "## GEE delivery\n",
    "\n",
    "The `--cloudconfig` option can be used to deliver orders directly to Google Earth Engine.\n",
    "\n",
    "\n",
    "Before placing orders to be delivered ot GEE, you must setup access to your GEE project for Planet's delivery system. [These docs describe the process.](https://developers.planet.com/docs/integrations/gee/quickstart/) If you have an existing GEE project that you plan to use, skip to step 3.\n",
    "\n",
    "This option requires an additional json file containing the name and credentials for the GEE project. The json file should be structured like so.\n",
    "```\n",
    "{\n",
    "    \"google_earth_engine\": {\n",
    "        \"project\": \"your_cloud_project_name\",\n",
    "        \"collection\": \"your_ee_image_collection_name\"\n",
    "    }\n",
    "}\n",
    "```\n",
    "\n",
    "Note the `collection` parameter. You will need to create an empty ImageCollection that the orders system can deliver to.\n",
    "![Create new ImageCollection](newimgcolection.gif)\n",
    "\n",
    "The json for the above example would look like this (including the mispelling error on my part).\n",
    "```\n",
    "{\n",
    "    \"google_earth_engine\": {\n",
    "        \"project\": \"pre-sales-demos-313313\",\n",
    "        \"collection\": \"MyColection\"\n",
    "    }\n",
    "}\n",
    "```\n",
    "\n"
   ]
  },
  {
   "cell_type": "markdown",
   "id": "4e92408f",
   "metadata": {},
   "source": [
    "## Caveats\n",
    "\n",
    "There are two important caveats to bear in mind when ordering imagery to be delivered to GEE:\n",
    "- Only certain item types are currently supported, and the `PSScene` item type (the only type with 8-band imagery) is _not_ among them. https://developers.planet.com/docs/integrations/gee/delivery/#supported-item-asset-types\n",
    "- Clipping is the only built-in geoprocessing tool supported for orders being delivered to GEE. https://developers.planet.com/docs/integrations/gee/delivery/#supported-raster-operations\n",
    "\n",
    "To work around these, we can order imagery to be delivered to a Google Cloud Storage bucket, and then ingest the imagery into GEE from there. The latter part of the next section has an example of that workflow."
   ]
  },
  {
   "cell_type": "markdown",
   "id": "8d2b9423",
   "metadata": {},
   "source": [
    "# Python script\n",
    "\n",
    "# Setup"
   ]
  },
  {
   "cell_type": "code",
   "execution_count": 1,
   "id": "e4fd396f",
   "metadata": {},
   "outputs": [
    {
     "name": "stdout",
     "output_type": "stream",
     "text": [
      "Collecting planet\n",
      "  Downloading planet-1.4.9-py2.py3-none-any.whl (55 kB)\n",
      "\u001b[K     |████████████████████████████████| 55 kB 2.3 MB/s eta 0:00:01\n",
      "\u001b[?25hCollecting requests-futures==0.9.7\n",
      "  Downloading requests-futures-0.9.7.tar.gz (5.6 kB)\n",
      "Requirement already satisfied: click in /Users/jacqueline/opt/anaconda3/lib/python3.9/site-packages (from planet) (8.0.3)\n",
      "Requirement already satisfied: requests in /Users/jacqueline/opt/anaconda3/lib/python3.9/site-packages (from planet) (2.26.0)\n",
      "Requirement already satisfied: urllib3<1.27,>=1.21.1 in /Users/jacqueline/opt/anaconda3/lib/python3.9/site-packages (from requests->planet) (1.26.7)\n",
      "Requirement already satisfied: idna<4,>=2.5 in /Users/jacqueline/opt/anaconda3/lib/python3.9/site-packages (from requests->planet) (3.2)\n",
      "Requirement already satisfied: certifi>=2017.4.17 in /Users/jacqueline/opt/anaconda3/lib/python3.9/site-packages (from requests->planet) (2021.10.8)\n",
      "Requirement already satisfied: charset-normalizer~=2.0.0 in /Users/jacqueline/opt/anaconda3/lib/python3.9/site-packages (from requests->planet) (2.0.4)\n",
      "Building wheels for collected packages: requests-futures\n",
      "  Building wheel for requests-futures (setup.py) ... \u001b[?25ldone\n",
      "\u001b[?25h  Created wheel for requests-futures: filename=requests_futures-0.9.7-py3-none-any.whl size=5072 sha256=79755139f3496985f11eb74103adc76dadb6d6c61bdfa8386a0d2160f2fcac09\n",
      "  Stored in directory: /Users/jacqueline/Library/Caches/pip/wheels/11/15/7b/35fae6039b9d8d28503ef7da2310a9244f2dddac01e9720142\n",
      "Successfully built requests-futures\n",
      "Installing collected packages: requests-futures, planet\n",
      "Successfully installed planet-1.4.9 requests-futures-0.9.7\n",
      "Note: you may need to restart the kernel to use updated packages.\n"
     ]
    }
   ],
   "source": [
    "pip install planet"
   ]
  },
  {
   "cell_type": "code",
   "execution_count": 2,
   "id": "cecb2405",
   "metadata": {},
   "outputs": [
    {
     "name": "stdout",
     "output_type": "stream",
     "text": [
      "Requirement already satisfied: arrow in /Users/jacqueline/opt/anaconda3/lib/python3.9/site-packages (0.13.1)\n",
      "Requirement already satisfied: python-dateutil in /Users/jacqueline/opt/anaconda3/lib/python3.9/site-packages (from arrow) (2.8.2)\n",
      "Requirement already satisfied: six>=1.5 in /Users/jacqueline/opt/anaconda3/lib/python3.9/site-packages (from python-dateutil->arrow) (1.16.0)\n",
      "Note: you may need to restart the kernel to use updated packages.\n"
     ]
    }
   ],
   "source": [
    "pip install arrow"
   ]
  },
  {
   "cell_type": "code",
   "execution_count": 3,
   "id": "e35b141d",
   "metadata": {},
   "outputs": [],
   "source": [
    "from planet import api\n",
    "import json\n",
    "from pprint import pprint\n",
    "import arrow\n",
    "\n",
    "client = api.ClientV1()\n",
    "# Or, if $PL_API_KEY environment variable is NOT set\n",
    "#client = api.ClientV1(api_key='API_KEY_HERE')"
   ]
  },
  {
   "cell_type": "markdown",
   "id": "7236e0fc",
   "metadata": {},
   "source": [
    "## Direct GEE delivery\n",
    "The CLI method above can also be done using the `Planet` python library.\n",
    "\n",
    "The order from the previous example would be represented in json like so.\n",
    "\n",
    "```\n",
    "{\n",
    "   \"name\":\"example_order\",\n",
    "   \"products\":[  \n",
    "      {  \n",
    "         \"item_ids\":[\n",
    "             \"20211201_183910_1026\",\n",
    "             \"20211201_183909_1026\",\n",
    "             \"20211201_183907_1026\"\n",
    "         ],\n",
    "         \"item_type\":\"PSScene4Band\",\n",
    "         \"product_bundle\":\"analytic_sr_udm2\"\n",
    "      }\n",
    "    ],\n",
    "    \"delivery\": {\n",
    "        \"google_earth_engine\": {\n",
    "            \"project\": \"pre-sales-demos-313313\",\n",
    "            \"collection\": \"MyColection\"\n",
    "        }\n",
    "    }\n",
    "}\n",
    "```\n",
    "\n",
    "and would be constructed in Python like so"
   ]
  },
  {
   "cell_type": "code",
   "execution_count": 6,
   "id": "5b777b1e",
   "metadata": {},
   "outputs": [
    {
     "ename": "InvalidAPIKey",
     "evalue": "No API key provided",
     "output_type": "error",
     "traceback": [
      "\u001b[0;31m---------------------------------------------------------------------------\u001b[0m",
      "\u001b[0;31mInvalidAPIKey\u001b[0m                             Traceback (most recent call last)",
      "\u001b[0;32m/var/folders/pr/x209szxj12dfmrblnp67swc80000gn/T/ipykernel_64078/1093816886.py\u001b[0m in \u001b[0;36m<module>\u001b[0;34m\u001b[0m\n\u001b[1;32m     25\u001b[0m }\n\u001b[1;32m     26\u001b[0m \u001b[0;34m\u001b[0m\u001b[0m\n\u001b[0;32m---> 27\u001b[0;31m \u001b[0mdirect_order_results\u001b[0m \u001b[0;34m=\u001b[0m \u001b[0mclient\u001b[0m\u001b[0;34m.\u001b[0m\u001b[0mcreate_order\u001b[0m\u001b[0;34m(\u001b[0m\u001b[0mdirect_gee_order\u001b[0m\u001b[0;34m)\u001b[0m\u001b[0;34m\u001b[0m\u001b[0;34m\u001b[0m\u001b[0m\n\u001b[0m\u001b[1;32m     28\u001b[0m \u001b[0;34m\u001b[0m\u001b[0m\n\u001b[1;32m     29\u001b[0m \u001b[0mpprint\u001b[0m\u001b[0;34m(\u001b[0m\u001b[0mdirect_order_results\u001b[0m\u001b[0;34m.\u001b[0m\u001b[0mget\u001b[0m\u001b[0;34m(\u001b[0m\u001b[0;34m)\u001b[0m\u001b[0;34m)\u001b[0m\u001b[0;34m\u001b[0m\u001b[0;34m\u001b[0m\u001b[0m\n",
      "\u001b[0;32m~/opt/anaconda3/lib/python3.9/site-packages/planet/api/client.py\u001b[0m in \u001b[0;36mcreate_order\u001b[0;34m(self, request)\u001b[0m\n\u001b[1;32m    550\u001b[0m         \u001b[0murl\u001b[0m \u001b[0;34m=\u001b[0m \u001b[0mself\u001b[0m\u001b[0;34m.\u001b[0m\u001b[0m_url\u001b[0m\u001b[0;34m(\u001b[0m\u001b[0;34m'compute/ops/orders/v2'\u001b[0m\u001b[0;34m)\u001b[0m\u001b[0;34m\u001b[0m\u001b[0;34m\u001b[0m\u001b[0m\n\u001b[1;32m    551\u001b[0m         \u001b[0mbody\u001b[0m \u001b[0;34m=\u001b[0m \u001b[0mjson\u001b[0m\u001b[0;34m.\u001b[0m\u001b[0mdumps\u001b[0m\u001b[0;34m(\u001b[0m\u001b[0mrequest\u001b[0m\u001b[0;34m)\u001b[0m\u001b[0;34m\u001b[0m\u001b[0;34m\u001b[0m\u001b[0m\n\u001b[0;32m--> 552\u001b[0;31m         return self.dispatcher.response(models.Request(url, self.auth,\n\u001b[0m\u001b[1;32m    553\u001b[0m                                                        \u001b[0mbody_type\u001b[0m\u001b[0;34m=\u001b[0m\u001b[0mmodels\u001b[0m\u001b[0;34m.\u001b[0m\u001b[0mOrder\u001b[0m\u001b[0;34m,\u001b[0m\u001b[0;34m\u001b[0m\u001b[0;34m\u001b[0m\u001b[0m\n\u001b[1;32m    554\u001b[0m                                                        \u001b[0mdata\u001b[0m\u001b[0;34m=\u001b[0m\u001b[0mbody\u001b[0m\u001b[0;34m,\u001b[0m\u001b[0;34m\u001b[0m\u001b[0;34m\u001b[0m\u001b[0m\n",
      "\u001b[0;32m~/opt/anaconda3/lib/python3.9/site-packages/planet/api/models.py\u001b[0m in \u001b[0;36mget_body\u001b[0;34m(self)\u001b[0m\n\u001b[1;32m     43\u001b[0m         '''\n\u001b[1;32m     44\u001b[0m         \u001b[0;32mif\u001b[0m \u001b[0mself\u001b[0m\u001b[0;34m.\u001b[0m\u001b[0m_body\u001b[0m \u001b[0;32mis\u001b[0m \u001b[0;32mNone\u001b[0m\u001b[0;34m:\u001b[0m\u001b[0;34m\u001b[0m\u001b[0;34m\u001b[0m\u001b[0m\n\u001b[0;32m---> 45\u001b[0;31m             \u001b[0mresp\u001b[0m \u001b[0;34m=\u001b[0m \u001b[0mself\u001b[0m\u001b[0;34m.\u001b[0m\u001b[0m_dispatcher\u001b[0m\u001b[0;34m.\u001b[0m\u001b[0m_dispatch\u001b[0m\u001b[0;34m(\u001b[0m\u001b[0mself\u001b[0m\u001b[0;34m.\u001b[0m\u001b[0mrequest\u001b[0m\u001b[0;34m)\u001b[0m\u001b[0;34m\u001b[0m\u001b[0;34m\u001b[0m\u001b[0m\n\u001b[0m\u001b[1;32m     46\u001b[0m             \u001b[0mself\u001b[0m\u001b[0;34m.\u001b[0m\u001b[0m_body\u001b[0m \u001b[0;34m=\u001b[0m \u001b[0mself\u001b[0m\u001b[0;34m.\u001b[0m\u001b[0m_create_body\u001b[0m\u001b[0;34m(\u001b[0m\u001b[0mresp\u001b[0m\u001b[0;34m)\u001b[0m\u001b[0;34m\u001b[0m\u001b[0;34m\u001b[0m\u001b[0m\n\u001b[1;32m     47\u001b[0m         \u001b[0;32mreturn\u001b[0m \u001b[0mself\u001b[0m\u001b[0;34m.\u001b[0m\u001b[0m_body\u001b[0m\u001b[0;34m\u001b[0m\u001b[0;34m\u001b[0m\u001b[0m\n",
      "\u001b[0;32m~/opt/anaconda3/lib/python3.9/site-packages/planet/api/dispatch.py\u001b[0m in \u001b[0;36m_dispatch\u001b[0;34m(self, request, callback)\u001b[0m\n\u001b[1;32m    155\u001b[0m \u001b[0;34m\u001b[0m\u001b[0m\n\u001b[1;32m    156\u001b[0m     \u001b[0;32mdef\u001b[0m \u001b[0m_dispatch\u001b[0m\u001b[0;34m(\u001b[0m\u001b[0mself\u001b[0m\u001b[0;34m,\u001b[0m \u001b[0mrequest\u001b[0m\u001b[0;34m,\u001b[0m \u001b[0mcallback\u001b[0m\u001b[0;34m=\u001b[0m\u001b[0;32mNone\u001b[0m\u001b[0;34m)\u001b[0m\u001b[0;34m:\u001b[0m\u001b[0;34m\u001b[0m\u001b[0;34m\u001b[0m\u001b[0m\n\u001b[0;32m--> 157\u001b[0;31m         \u001b[0;32mreturn\u001b[0m \u001b[0m_do_request\u001b[0m\u001b[0;34m(\u001b[0m\u001b[0mself\u001b[0m\u001b[0;34m.\u001b[0m\u001b[0msession\u001b[0m\u001b[0;34m,\u001b[0m \u001b[0mrequest\u001b[0m\u001b[0;34m)\u001b[0m\u001b[0;34m\u001b[0m\u001b[0;34m\u001b[0m\u001b[0m\n\u001b[0m\u001b[1;32m    158\u001b[0m \u001b[0;34m\u001b[0m\u001b[0m\n\u001b[1;32m    159\u001b[0m     \u001b[0;31m# @todo delete me w/ v0 removal\u001b[0m\u001b[0;34m\u001b[0m\u001b[0;34m\u001b[0m\u001b[0m\n",
      "\u001b[0;32m~/opt/anaconda3/lib/python3.9/site-packages/planet/api/dispatch.py\u001b[0m in \u001b[0;36m_do_request\u001b[0;34m(sess, req, **kwargs)\u001b[0m\n\u001b[1;32m    117\u001b[0m             \u001b[0mt\u001b[0m \u001b[0;34m=\u001b[0m \u001b[0mtime\u001b[0m\u001b[0;34m.\u001b[0m\u001b[0mtime\u001b[0m\u001b[0;34m(\u001b[0m\u001b[0;34m)\u001b[0m\u001b[0;34m\u001b[0m\u001b[0;34m\u001b[0m\u001b[0m\n\u001b[1;32m    118\u001b[0m             resp = sess.request(\n\u001b[0;32m--> 119\u001b[0;31m                 \u001b[0mreq\u001b[0m\u001b[0;34m.\u001b[0m\u001b[0mmethod\u001b[0m\u001b[0;34m,\u001b[0m \u001b[0mreq\u001b[0m\u001b[0;34m.\u001b[0m\u001b[0murl\u001b[0m\u001b[0;34m,\u001b[0m \u001b[0mdata\u001b[0m\u001b[0;34m=\u001b[0m\u001b[0mreq\u001b[0m\u001b[0;34m.\u001b[0m\u001b[0mdata\u001b[0m\u001b[0;34m,\u001b[0m \u001b[0mheaders\u001b[0m\u001b[0;34m=\u001b[0m\u001b[0m_headers\u001b[0m\u001b[0;34m(\u001b[0m\u001b[0mreq\u001b[0m\u001b[0;34m)\u001b[0m\u001b[0;34m,\u001b[0m\u001b[0;34m\u001b[0m\u001b[0;34m\u001b[0m\u001b[0m\n\u001b[0m\u001b[1;32m    120\u001b[0m                 \u001b[0mparams\u001b[0m\u001b[0;34m=\u001b[0m\u001b[0mreq\u001b[0m\u001b[0;34m.\u001b[0m\u001b[0mparams\u001b[0m\u001b[0;34m,\u001b[0m \u001b[0mverify\u001b[0m\u001b[0;34m=\u001b[0m\u001b[0mUSE_STRICT_SSL\u001b[0m\u001b[0;34m,\u001b[0m \u001b[0;34m**\u001b[0m\u001b[0mkwargs\u001b[0m\u001b[0;34m\u001b[0m\u001b[0;34m\u001b[0m\u001b[0m\n\u001b[1;32m    121\u001b[0m             )\n",
      "\u001b[0;32m~/opt/anaconda3/lib/python3.9/site-packages/planet/api/dispatch.py\u001b[0m in \u001b[0;36m_headers\u001b[0;34m(request)\u001b[0m\n\u001b[1;32m    107\u001b[0m         })\n\u001b[1;32m    108\u001b[0m     \u001b[0;32melse\u001b[0m\u001b[0;34m:\u001b[0m\u001b[0;34m\u001b[0m\u001b[0;34m\u001b[0m\u001b[0m\n\u001b[0;32m--> 109\u001b[0;31m         \u001b[0;32mraise\u001b[0m \u001b[0mInvalidAPIKey\u001b[0m\u001b[0;34m(\u001b[0m\u001b[0;34m'No API key provided'\u001b[0m\u001b[0;34m)\u001b[0m\u001b[0;34m\u001b[0m\u001b[0;34m\u001b[0m\u001b[0m\n\u001b[0m\u001b[1;32m    110\u001b[0m     \u001b[0;32mreturn\u001b[0m \u001b[0mheaders\u001b[0m\u001b[0;34m\u001b[0m\u001b[0;34m\u001b[0m\u001b[0m\n\u001b[1;32m    111\u001b[0m \u001b[0;34m\u001b[0m\u001b[0m\n",
      "\u001b[0;31mInvalidAPIKey\u001b[0m: No API key provided"
     ]
    }
   ],
   "source": [
    "order_name = \"jones_spot_fire\"\n",
    "scene_ids = [ \"20200822_184118_1026\", \"20200822_184119_1026\"]\n",
    "scene_filter = api.filters.string_filter('id',*scene_ids)\n",
    "\n",
    "item_type = 'PSScene4Band'\n",
    "bundle_type = 'analytic_sr_udm2'\n",
    "project_name = \"planet\"\n",
    "collection_name = \"jones_spot_fire_gee\"\n",
    "\n",
    "direct_gee_order = {\n",
    "   \"name\": order_name,\n",
    "   \"products\":[  \n",
    "      {  \n",
    "         \"item_ids\": scene_ids,\n",
    "         \"item_type\": item_type,\n",
    "         \"product_bundle\": bundle_type\n",
    "      }\n",
    "    ],\n",
    "    \"delivery\": {\n",
    "        \"google_earth_engine\": {\n",
    "            \"project\": project_name,\n",
    "            \"collection\": collection_name\n",
    "        }\n",
    "    }\n",
    "}\n",
    "\n",
    "direct_order_results = client.create_order(direct_gee_order)\n",
    "\n",
    "pprint(direct_order_results.get())"
   ]
  },
  {
   "cell_type": "code",
   "execution_count": 5,
   "id": "6a971b43",
   "metadata": {},
   "outputs": [
    {
     "ename": "InvalidAPIKey",
     "evalue": "No API key provided",
     "output_type": "error",
     "traceback": [
      "\u001b[0;31m---------------------------------------------------------------------------\u001b[0m",
      "\u001b[0;31mInvalidAPIKey\u001b[0m                             Traceback (most recent call last)",
      "\u001b[0;32m/var/folders/pr/x209szxj12dfmrblnp67swc80000gn/T/ipykernel_64078/3658532061.py\u001b[0m in \u001b[0;36m<module>\u001b[0;34m\u001b[0m\n\u001b[1;32m     28\u001b[0m }\n\u001b[1;32m     29\u001b[0m \u001b[0;34m\u001b[0m\u001b[0m\n\u001b[0;32m---> 30\u001b[0;31m \u001b[0mdirect_order_results\u001b[0m \u001b[0;34m=\u001b[0m \u001b[0mclient\u001b[0m\u001b[0;34m.\u001b[0m\u001b[0mcreate_order\u001b[0m\u001b[0;34m(\u001b[0m\u001b[0mdirect_gee_order\u001b[0m\u001b[0;34m)\u001b[0m\u001b[0;34m\u001b[0m\u001b[0;34m\u001b[0m\u001b[0m\n\u001b[0m\u001b[1;32m     31\u001b[0m \u001b[0;34m\u001b[0m\u001b[0m\n\u001b[1;32m     32\u001b[0m \u001b[0mpprint\u001b[0m\u001b[0;34m(\u001b[0m\u001b[0mdirect_order_results\u001b[0m\u001b[0;34m.\u001b[0m\u001b[0mget\u001b[0m\u001b[0;34m(\u001b[0m\u001b[0;34m)\u001b[0m\u001b[0;34m)\u001b[0m\u001b[0;34m\u001b[0m\u001b[0;34m\u001b[0m\u001b[0m\n",
      "\u001b[0;32m~/opt/anaconda3/lib/python3.9/site-packages/planet/api/client.py\u001b[0m in \u001b[0;36mcreate_order\u001b[0;34m(self, request)\u001b[0m\n\u001b[1;32m    550\u001b[0m         \u001b[0murl\u001b[0m \u001b[0;34m=\u001b[0m \u001b[0mself\u001b[0m\u001b[0;34m.\u001b[0m\u001b[0m_url\u001b[0m\u001b[0;34m(\u001b[0m\u001b[0;34m'compute/ops/orders/v2'\u001b[0m\u001b[0;34m)\u001b[0m\u001b[0;34m\u001b[0m\u001b[0;34m\u001b[0m\u001b[0m\n\u001b[1;32m    551\u001b[0m         \u001b[0mbody\u001b[0m \u001b[0;34m=\u001b[0m \u001b[0mjson\u001b[0m\u001b[0;34m.\u001b[0m\u001b[0mdumps\u001b[0m\u001b[0;34m(\u001b[0m\u001b[0mrequest\u001b[0m\u001b[0;34m)\u001b[0m\u001b[0;34m\u001b[0m\u001b[0;34m\u001b[0m\u001b[0m\n\u001b[0;32m--> 552\u001b[0;31m         return self.dispatcher.response(models.Request(url, self.auth,\n\u001b[0m\u001b[1;32m    553\u001b[0m                                                        \u001b[0mbody_type\u001b[0m\u001b[0;34m=\u001b[0m\u001b[0mmodels\u001b[0m\u001b[0;34m.\u001b[0m\u001b[0mOrder\u001b[0m\u001b[0;34m,\u001b[0m\u001b[0;34m\u001b[0m\u001b[0;34m\u001b[0m\u001b[0m\n\u001b[1;32m    554\u001b[0m                                                        \u001b[0mdata\u001b[0m\u001b[0;34m=\u001b[0m\u001b[0mbody\u001b[0m\u001b[0;34m,\u001b[0m\u001b[0;34m\u001b[0m\u001b[0;34m\u001b[0m\u001b[0m\n",
      "\u001b[0;32m~/opt/anaconda3/lib/python3.9/site-packages/planet/api/models.py\u001b[0m in \u001b[0;36mget_body\u001b[0;34m(self)\u001b[0m\n\u001b[1;32m     43\u001b[0m         '''\n\u001b[1;32m     44\u001b[0m         \u001b[0;32mif\u001b[0m \u001b[0mself\u001b[0m\u001b[0;34m.\u001b[0m\u001b[0m_body\u001b[0m \u001b[0;32mis\u001b[0m \u001b[0;32mNone\u001b[0m\u001b[0;34m:\u001b[0m\u001b[0;34m\u001b[0m\u001b[0;34m\u001b[0m\u001b[0m\n\u001b[0;32m---> 45\u001b[0;31m             \u001b[0mresp\u001b[0m \u001b[0;34m=\u001b[0m \u001b[0mself\u001b[0m\u001b[0;34m.\u001b[0m\u001b[0m_dispatcher\u001b[0m\u001b[0;34m.\u001b[0m\u001b[0m_dispatch\u001b[0m\u001b[0;34m(\u001b[0m\u001b[0mself\u001b[0m\u001b[0;34m.\u001b[0m\u001b[0mrequest\u001b[0m\u001b[0;34m)\u001b[0m\u001b[0;34m\u001b[0m\u001b[0;34m\u001b[0m\u001b[0m\n\u001b[0m\u001b[1;32m     46\u001b[0m             \u001b[0mself\u001b[0m\u001b[0;34m.\u001b[0m\u001b[0m_body\u001b[0m \u001b[0;34m=\u001b[0m \u001b[0mself\u001b[0m\u001b[0;34m.\u001b[0m\u001b[0m_create_body\u001b[0m\u001b[0;34m(\u001b[0m\u001b[0mresp\u001b[0m\u001b[0;34m)\u001b[0m\u001b[0;34m\u001b[0m\u001b[0;34m\u001b[0m\u001b[0m\n\u001b[1;32m     47\u001b[0m         \u001b[0;32mreturn\u001b[0m \u001b[0mself\u001b[0m\u001b[0;34m.\u001b[0m\u001b[0m_body\u001b[0m\u001b[0;34m\u001b[0m\u001b[0;34m\u001b[0m\u001b[0m\n",
      "\u001b[0;32m~/opt/anaconda3/lib/python3.9/site-packages/planet/api/dispatch.py\u001b[0m in \u001b[0;36m_dispatch\u001b[0;34m(self, request, callback)\u001b[0m\n\u001b[1;32m    155\u001b[0m \u001b[0;34m\u001b[0m\u001b[0m\n\u001b[1;32m    156\u001b[0m     \u001b[0;32mdef\u001b[0m \u001b[0m_dispatch\u001b[0m\u001b[0;34m(\u001b[0m\u001b[0mself\u001b[0m\u001b[0;34m,\u001b[0m \u001b[0mrequest\u001b[0m\u001b[0;34m,\u001b[0m \u001b[0mcallback\u001b[0m\u001b[0;34m=\u001b[0m\u001b[0;32mNone\u001b[0m\u001b[0;34m)\u001b[0m\u001b[0;34m:\u001b[0m\u001b[0;34m\u001b[0m\u001b[0;34m\u001b[0m\u001b[0m\n\u001b[0;32m--> 157\u001b[0;31m         \u001b[0;32mreturn\u001b[0m \u001b[0m_do_request\u001b[0m\u001b[0;34m(\u001b[0m\u001b[0mself\u001b[0m\u001b[0;34m.\u001b[0m\u001b[0msession\u001b[0m\u001b[0;34m,\u001b[0m \u001b[0mrequest\u001b[0m\u001b[0;34m)\u001b[0m\u001b[0;34m\u001b[0m\u001b[0;34m\u001b[0m\u001b[0m\n\u001b[0m\u001b[1;32m    158\u001b[0m \u001b[0;34m\u001b[0m\u001b[0m\n\u001b[1;32m    159\u001b[0m     \u001b[0;31m# @todo delete me w/ v0 removal\u001b[0m\u001b[0;34m\u001b[0m\u001b[0;34m\u001b[0m\u001b[0m\n",
      "\u001b[0;32m~/opt/anaconda3/lib/python3.9/site-packages/planet/api/dispatch.py\u001b[0m in \u001b[0;36m_do_request\u001b[0;34m(sess, req, **kwargs)\u001b[0m\n\u001b[1;32m    117\u001b[0m             \u001b[0mt\u001b[0m \u001b[0;34m=\u001b[0m \u001b[0mtime\u001b[0m\u001b[0;34m.\u001b[0m\u001b[0mtime\u001b[0m\u001b[0;34m(\u001b[0m\u001b[0;34m)\u001b[0m\u001b[0;34m\u001b[0m\u001b[0;34m\u001b[0m\u001b[0m\n\u001b[1;32m    118\u001b[0m             resp = sess.request(\n\u001b[0;32m--> 119\u001b[0;31m                 \u001b[0mreq\u001b[0m\u001b[0;34m.\u001b[0m\u001b[0mmethod\u001b[0m\u001b[0;34m,\u001b[0m \u001b[0mreq\u001b[0m\u001b[0;34m.\u001b[0m\u001b[0murl\u001b[0m\u001b[0;34m,\u001b[0m \u001b[0mdata\u001b[0m\u001b[0;34m=\u001b[0m\u001b[0mreq\u001b[0m\u001b[0;34m.\u001b[0m\u001b[0mdata\u001b[0m\u001b[0;34m,\u001b[0m \u001b[0mheaders\u001b[0m\u001b[0;34m=\u001b[0m\u001b[0m_headers\u001b[0m\u001b[0;34m(\u001b[0m\u001b[0mreq\u001b[0m\u001b[0;34m)\u001b[0m\u001b[0;34m,\u001b[0m\u001b[0;34m\u001b[0m\u001b[0;34m\u001b[0m\u001b[0m\n\u001b[0m\u001b[1;32m    120\u001b[0m                 \u001b[0mparams\u001b[0m\u001b[0;34m=\u001b[0m\u001b[0mreq\u001b[0m\u001b[0;34m.\u001b[0m\u001b[0mparams\u001b[0m\u001b[0;34m,\u001b[0m \u001b[0mverify\u001b[0m\u001b[0;34m=\u001b[0m\u001b[0mUSE_STRICT_SSL\u001b[0m\u001b[0;34m,\u001b[0m \u001b[0;34m**\u001b[0m\u001b[0mkwargs\u001b[0m\u001b[0;34m\u001b[0m\u001b[0;34m\u001b[0m\u001b[0m\n\u001b[1;32m    121\u001b[0m             )\n",
      "\u001b[0;32m~/opt/anaconda3/lib/python3.9/site-packages/planet/api/dispatch.py\u001b[0m in \u001b[0;36m_headers\u001b[0;34m(request)\u001b[0m\n\u001b[1;32m    107\u001b[0m         })\n\u001b[1;32m    108\u001b[0m     \u001b[0;32melse\u001b[0m\u001b[0;34m:\u001b[0m\u001b[0;34m\u001b[0m\u001b[0;34m\u001b[0m\u001b[0m\n\u001b[0;32m--> 109\u001b[0;31m         \u001b[0;32mraise\u001b[0m \u001b[0mInvalidAPIKey\u001b[0m\u001b[0;34m(\u001b[0m\u001b[0;34m'No API key provided'\u001b[0m\u001b[0;34m)\u001b[0m\u001b[0;34m\u001b[0m\u001b[0;34m\u001b[0m\u001b[0m\n\u001b[0m\u001b[1;32m    110\u001b[0m     \u001b[0;32mreturn\u001b[0m \u001b[0mheaders\u001b[0m\u001b[0;34m\u001b[0m\u001b[0;34m\u001b[0m\u001b[0m\n\u001b[1;32m    111\u001b[0m \u001b[0;34m\u001b[0m\u001b[0m\n",
      "\u001b[0;31mInvalidAPIKey\u001b[0m: No API key provided"
     ]
    }
   ],
   "source": [
    "#Berkeley scene?\n",
    "order_name = \"berkeley\"\n",
    "scene_ids = [\n",
    "             \"20211130_181920_29_2233\",\n",
    "]\n",
    "scene_filter = api.filters.string_filter('id',*scene_ids)\n",
    "\n",
    "item_type = 'PSScene4Band'\n",
    "bundle_type = 'analytic_sr_udm2'\n",
    "project_name = \"planet-projects\"\n",
    "collection_name = \"berkeley\"\n",
    "\n",
    "direct_gee_order = {\n",
    "   \"name\": order_name,\n",
    "   \"products\":[  \n",
    "      {  \n",
    "         \"item_ids\": scene_ids,\n",
    "         \"item_type\": item_type,\n",
    "         \"product_bundle\": bundle_type\n",
    "      }\n",
    "    ],\n",
    "    \"delivery\": {\n",
    "        \"google_earth_engine\": {\n",
    "            \"project\": project_name,\n",
    "            \"collection\": collection_name\n",
    "        }\n",
    "    }\n",
    "}\n",
    "\n",
    "direct_order_results = client.create_order(direct_gee_order)\n",
    "\n",
    "pprint(direct_order_results.get())"
   ]
  },
  {
   "cell_type": "code",
   "execution_count": 6,
   "id": "a4528c28",
   "metadata": {},
   "outputs": [
    {
     "name": "stdout",
     "output_type": "stream",
     "text": [
      "{'_links': {'_self': 'https://api.planet.com/compute/ops/orders/v2/2064b6a6-4758-4afe-8310-97b765e44702'},\n",
      " 'created_on': '2022-04-08T23:25:34.592Z',\n",
      " 'delivery': {'google_earth_engine': {'collection': 'camp_fire1',\n",
      "                                      'credentials': '<REDACTED>',\n",
      "                                      'project': 'planet-projects'}},\n",
      " 'error_hints': [],\n",
      " 'id': '2064b6a6-4758-4afe-8310-97b765e44702',\n",
      " 'last_message': 'Preparing order',\n",
      " 'last_modified': '2022-04-08T23:25:34.592Z',\n",
      " 'name': 'camp_fire',\n",
      " 'products': [{'item_ids': ['20181111_182710_0f31'],\n",
      "               'item_type': 'PSScene4Band',\n",
      "               'product_bundle': 'analytic_sr_udm2'}],\n",
      " 'state': 'queued'}\n"
     ]
    }
   ],
   "source": [
    "#mendo complex 1?\n",
    "order_name = \"camp_fire\"\n",
    "scene_ids = [\n",
    "             \"20181111_182710_0f31\"\n",
    "]\n",
    "scene_filter = api.filters.string_filter('id',*scene_ids)\n",
    "\n",
    "item_type = 'PSScene4Band'\n",
    "bundle_type = 'analytic_sr_udm2'\n",
    "project_name = \"planet-projects\"\n",
    "collection_name = \"camp_fire1\"\n",
    "\n",
    "direct_gee_order = {\n",
    "   \"name\": order_name,\n",
    "   \"products\":[  \n",
    "      {  \n",
    "         \"item_ids\": scene_ids,\n",
    "         \"item_type\": item_type,\n",
    "         \"product_bundle\": bundle_type\n",
    "      }\n",
    "    ],\n",
    "    \"delivery\": {\n",
    "        \"google_earth_engine\": {\n",
    "            \"project\": project_name,\n",
    "            \"collection\": collection_name\n",
    "        }\n",
    "    }\n",
    "}\n",
    "\n",
    "direct_order_results = client.create_order(direct_gee_order)\n",
    "\n",
    "pprint(direct_order_results.get())"
   ]
  },
  {
   "cell_type": "markdown",
   "id": "09946813",
   "metadata": {},
   "source": [
    "It can take some time for the order to complete, especially if any of the imagery is relatively old and/or if there are _lots_ of scenes in the order.\n",
    "\n",
    "You can check on the status of the order like so."
   ]
  },
  {
   "cell_type": "code",
   "execution_count": 38,
   "id": "ac547b00",
   "metadata": {},
   "outputs": [
    {
     "name": "stdout",
     "output_type": "stream",
     "text": [
      "{'_links': {'_self': 'https://api.planet.com/compute/ops/orders/v2/d46d1609-6c22-4034-9905-1e0da633fbdf',\n",
      "            'results': [{'delivery': 'success',\n",
      "                         'expires_at': '2022-02-15T10:24:43.435Z',\n",
      "                         'location': 'https://api.planet.com/compute/ops/download/?token=eyJhbGciOiJIUzUxMiIsInR5cCI6IkpXVCJ9.eyJleHAiOjE2NDQ5MjA2ODMsInN1YiI6Imo1d2RXdzFhS2EwUXBCOWt4bFF6WU5Ed0hwUHl6RDNid1NQZ3RTcWRXM0pHL2VoOXU3b3FESVl4UVkwRVNVZ3FoOTB6Yjg0eVJuQ2RvVWxRaW1WUFBRPT0iLCJ0b2tlbl90eXBlIjoiZG93bmxvYWQtYXNzZXQtc3RhY2siLCJhb2kiOiIiLCJhc3NldHMiOlt7Iml0ZW1fdHlwZSI6IiIsImFzc2V0X3R5cGUiOiIiLCJpdGVtX2lkIjoiIn1dLCJ1cmwiOiJodHRwczovL3N0b3JhZ2UuZ29vZ2xlYXBpcy5jb20vY29tcHV0ZS1vcmRlcnMtbGl2ZS8yMDE5MDYwOF8xODM0MjNfMTAwNV8zQl9BbmFseXRpY01TX1NSLnRpZj9FeHBpcmVzPTE2NDQ5MjA2ODNcdTAwMjZHb29nbGVBY2Nlc3NJZD1jb21wdXRlLWdjcy1zdmNhY2MlNDBwbGFuZXQtY29tcHV0ZS1wcm9kLmlhbS5nc2VydmljZWFjY291bnQuY29tXHUwMDI2U2lnbmF0dXJlPWFhUjJQTCUyRkYyT2dnRFpzZGNaJTJGOVVZaGRjbVQ0TUFrVU8xMlJmZERkZ2g5Z2o5ZnE2N25aUFRPbWtUZ3E1b2VKJTJGMnRicXREaGIyJTJCJTJCVDdLRVkyd2k1TXU1VHY3WW1lYmxUNEdNS2JuSWYlMkJBNHNCNllLMDhZVVk0VmxMZGhESFFjSUp1NSUyRnhaV0pVdlFBRWQ2JTJCcGZZMW10ZGVoN0VydFBUeklDYXVOaHlMWGhFb0VkQUhpTnREeDlhWHZLQ0pzY0RRbXBkVjA0ZDRFanIwJTJCNlhVYk9aV0JnQiUyRm5kU24ycHgzYmFPZGNhUk1rS21qNzRhdiUyRlNQNnFmeUFlJTJCRGZnME9tR1ppRkRBOFgyM1A0UXhLJTJCOFlTOFhjZ2hMaTVMYnY0ckpVcHQxeHFZMWo1YXRZT052cFg1cSUyQjl0Tk0lMkZuYmRGY2tXNmR2b29wbmVmVzVJUVpKJTJCZEVBJTNEJTNEIiwic291cmNlIjoiT3JkZXJzIFNlcnZpY2UifQ.vZO757f9xdvqscXs9iTa60R54TDoUGCTD-OLrkbnK0syl2m0M93vKKV1ESeM4OZuKTk-gxiTs4qRwGA3_GVInw',\n",
      "                         'name': '20190608_183423_1005_3B_AnalyticMS_SR.tif'},\n",
      "                        {'delivery': 'success',\n",
      "                         'expires_at': '2022-02-15T10:24:43.438Z',\n",
      "                         'location': 'https://api.planet.com/compute/ops/download/?token=eyJhbGciOiJIUzUxMiIsInR5cCI6IkpXVCJ9.eyJleHAiOjE2NDQ5MjA2ODMsInN1YiI6IkJzN0lCcERnZS9yKzBhTzcrVWV1Z0NqdGtJWVZYV1Q5eFlsSVI1c21BUk55UnJuQnAxcEF3OXdaZGNsakZpZkpTOVhJbzE3TklMR0VZbHQrWTVWbVp3PT0iLCJ0b2tlbl90eXBlIjoiZG93bmxvYWQtYXNzZXQtc3RhY2siLCJhb2kiOiIiLCJhc3NldHMiOlt7Iml0ZW1fdHlwZSI6IiIsImFzc2V0X3R5cGUiOiIiLCJpdGVtX2lkIjoiIn1dLCJ1cmwiOiJodHRwczovL3N0b3JhZ2UuZ29vZ2xlYXBpcy5jb20vY29tcHV0ZS1vcmRlcnMtbGl2ZS8yMDE5MDYwOF8xODM0MjRfMTAwNV8zQl9BbmFseXRpY01TX1NSLnRpZj9FeHBpcmVzPTE2NDQ5MjA2ODNcdTAwMjZHb29nbGVBY2Nlc3NJZD1jb21wdXRlLWdjcy1zdmNhY2MlNDBwbGFuZXQtY29tcHV0ZS1wcm9kLmlhbS5nc2VydmljZWFjY291bnQuY29tXHUwMDI2U2lnbmF0dXJlPVhvMGlrJTJGUjZCRlJsOGxsVDN0dTY4SmFVdEdBSkJURjJSeFR3eWIlMkZhUVhXWFJ6b2Nlam1mb1RUZzNpc2h3JTJGMkp3NFFDeXAlMkZSd0l5N3cyYlR4ZHolMkZqWkdoSExpeHZqZjlXTUpUT21MUVNRNnNPSHZoZE5RTVFKS004NGdOSUJLcGdXUVBxN29LVzhiQmx2bXJVJTJCdU1IcWJ3dkw4RFVTMjYwYjNZWSUyRkclMkZxSGJDSEVyUnkwSktFNEFhN3VrYXJmOCUyQjMwNiUyRktHQTRIMmppQWtyY3lKRm0ybXltZFBxdm54R1Fyd3pTdUd4aE50cDAxZHh5dFVpQk0lMkJ4d0Vyb09POEsyZFAlMkJiVHAwRWpvb2xMT01aZHpFRVZ4dDloZUZPc3djR21qbDQ2NkJxRWxtJTJGaWY0RDZuZlVkcExHUzYlMkZaSGhOVldRakpGWDRyUzgxZk1US1BZZHFxcFElM0QlM0QiLCJzb3VyY2UiOiJPcmRlcnMgU2VydmljZSJ9.IDYMK7KyYCrEtEI5KZfBpw-LDsfW4s_nA1MUjWbV9UkK0AIhlDEgfnNDCU6QGW_vyu-98xVYsyGuWSCYvBqMOA',\n",
      "                         'name': '20190608_183424_1005_3B_AnalyticMS_SR.tif'},\n",
      "                        {'delivery': 'success',\n",
      "                         'expires_at': '2022-02-15T10:24:43.441Z',\n",
      "                         'location': 'https://api.planet.com/compute/ops/download/?token=eyJhbGciOiJIUzUxMiIsInR5cCI6IkpXVCJ9.eyJleHAiOjE2NDQ5MjA2ODMsInN1YiI6IjdHMXI4RFVYZjlQbFZJUCsva0kwZ1c5Y0pkTDRWRkVjeDRNdnRYdHBHQTNVSlpKSjdwcDBRc2QzdDM5TGtKQUphY0FZUXdVb3hWbW5oRU43eERHeWNnPT0iLCJ0b2tlbl90eXBlIjoiZG93bmxvYWQtYXNzZXQtc3RhY2siLCJhb2kiOiIiLCJhc3NldHMiOlt7Iml0ZW1fdHlwZSI6IiIsImFzc2V0X3R5cGUiOiIiLCJpdGVtX2lkIjoiIn1dLCJ1cmwiOiJodHRwczovL3N0b3JhZ2UuZ29vZ2xlYXBpcy5jb20vY29tcHV0ZS1vcmRlcnMtbGl2ZS8yMDE5MDYwOF8xNzM0MDRfMGYyZF8zQl9BbmFseXRpY01TX1NSLnRpZj9FeHBpcmVzPTE2NDQ5MjA2ODNcdTAwMjZHb29nbGVBY2Nlc3NJZD1jb21wdXRlLWdjcy1zdmNhY2MlNDBwbGFuZXQtY29tcHV0ZS1wcm9kLmlhbS5nc2VydmljZWFjY291bnQuY29tXHUwMDI2U2lnbmF0dXJlPWYzZmxQSlpGRUdtbnRVMlJLQ2VWUGJUaWZET3NkZjYwUmhzWGZ3Q1JpVkhvN20lMkZzaE1lUzVxRVFBNEFhaHUzSGE2YnZqcEtwMjBGQkFscUZLbGJJd2ZxZFV5NnllaFZYOWtiaGM2bTNCZjB5bFl0SXhrRGt3SSUyRk1PM2xjRnQ5UzFsSEV5WDlvSFZnNUxBZ1FWSE1FOHp2cE5iJTJGR3RBZlFWMWczNjBvJTJGNGF3ZEhLaDltTk5tTE1QcnJ3Y1pDbGtjRkQyNWk3T1VQMlBsQlV0d1NvT1padEE4Z3FuJTJCZEp5a1lFYmY5ZkhGWjdnTW05dEgwUUlEQ28lMkY1UWFyTVRlbjdSbEs5U1N4JTJCV21CclolMkJ4ayUyRmRkcVZ2RTdERlRSR1dkd0RUd0M3SE4xeTJ2ZlBpVzZ4WWtidXd4JTJGaklJcTViRHUwQkl5eDN0M1BMbkExMFRGb29RQTFBJTNEJTNEIiwic291cmNlIjoiT3JkZXJzIFNlcnZpY2UifQ.hhuH8Z2wE40DPmjMttH2-RM4Q9UUTgKG0l-oNPZKU2XzjEkUfCXuewUmhR2TL11P0qVzHRAkJ7MTCldI55iEAA',\n",
      "                         'name': '20190608_173404_0f2d_3B_AnalyticMS_SR.tif'},\n",
      "                        {'delivery': 'success',\n",
      "                         'expires_at': '2022-02-15T10:24:43.444Z',\n",
      "                         'location': 'https://api.planet.com/compute/ops/download/?token=eyJhbGciOiJIUzUxMiIsInR5cCI6IkpXVCJ9.eyJleHAiOjE2NDQ5MjA2ODMsInN1YiI6IlplZ2UzaDNORURtOE5PR0ZBbFhvcEo0bC90amQ3MGExSEltZG1FWWhtNHBWaE52SzFUdDIwODNSRkpaVlB1R0hYVW5MQlErME85UG85dHd2SWZHODB3PT0iLCJ0b2tlbl90eXBlIjoiZG93bmxvYWQtYXNzZXQtc3RhY2siLCJhb2kiOiIiLCJhc3NldHMiOlt7Iml0ZW1fdHlwZSI6IiIsImFzc2V0X3R5cGUiOiIiLCJpdGVtX2lkIjoiIn1dLCJ1cmwiOiJodHRwczovL3N0b3JhZ2UuZ29vZ2xlYXBpcy5jb20vY29tcHV0ZS1vcmRlcnMtbGl2ZS8yMDE5MDYwOF8xNzM0MDJfMGYyZF8zQl9BbmFseXRpY01TX1NSLnRpZj9FeHBpcmVzPTE2NDQ5MjA2ODNcdTAwMjZHb29nbGVBY2Nlc3NJZD1jb21wdXRlLWdjcy1zdmNhY2MlNDBwbGFuZXQtY29tcHV0ZS1wcm9kLmlhbS5nc2VydmljZWFjY291bnQuY29tXHUwMDI2U2lnbmF0dXJlPVMwaDlWWkElMkJmQnRwWDI1YzREa2p3NDFpUDBMMXE3aWFFeEolMkJ3TzElMkIzTFRLN3Z4bVFFWSUyQmQlMkJqbzNwV1djN05RcVpMOVp0NHdoeWt2TkVNeW5TRnQwWWpxeTRQTmx1RDBDSzlZSzd3cEQlMkZlWDR4SXJjNE1WN0ViRldscVoyQk9QRXFyUTZhTUZ6cDJQRURqaVIlMkIxbHFRcXViOU1Wb0hmbHdZc1U4QXNGU2Y5MXRLclMlMkJmc2clMkZLTFNGV1hRYkpHJTJGdE5RQUNiYUt1OUV1UjJyUmZtNDlxSGlKMjl3Z0VOaFdsVHYyZ1NlNUtPZlZNUXhyNU5PQ0x4T0xjSXZOalZFM3huMXFpanlYV09PYjBCQ1pwdkV0UGZsWWt4ek92VFd5QW9vZVhwRWJKdVBFcVZyWWtyUE00bGlaZGZCcFhPQXhGeElCMWdSajlvcVZTak1MT0xzR1VnJTNEJTNEIiwic291cmNlIjoiT3JkZXJzIFNlcnZpY2UifQ.S5WmeN2mxb6m0WrefHTDcofUox7NIwbcuoP_iR0g_HoUB6EgLvQtgjovcwuJhFdU1znX2_7vChF8GnCovFMn9g',\n",
      "                         'name': '20190608_173402_0f2d_3B_AnalyticMS_SR.tif'},\n",
      "                        {'delivery': 'success',\n",
      "                         'expires_at': '2022-02-15T10:24:43.446Z',\n",
      "                         'location': 'https://api.planet.com/compute/ops/download/?token=eyJhbGciOiJIUzUxMiIsInR5cCI6IkpXVCJ9.eyJleHAiOjE2NDQ5MjA2ODMsInN1YiI6IlpuclRiN3FQOUl0WU5ZY0dNV0NiTXE3V3ZZVHB1Q1hlcWMxRXVPV1FZUmdWT2Yrb3BsSCtLOU90ZTgzRnZYWERFblRDYWZUbFhtbjcrWXEwQzB0QVlBPT0iLCJ0b2tlbl90eXBlIjoiZG93bmxvYWQtYXNzZXQtc3RhY2siLCJhb2kiOiIiLCJhc3NldHMiOlt7Iml0ZW1fdHlwZSI6IiIsImFzc2V0X3R5cGUiOiIiLCJpdGVtX2lkIjoiIn1dLCJ1cmwiOiJodHRwczovL3N0b3JhZ2UuZ29vZ2xlYXBpcy5jb20vY29tcHV0ZS1vcmRlcnMtbGl2ZS8yMDE5MDYwOF8xNzM0MDNfMGYyZF8zQl9BbmFseXRpY01TX1NSLnRpZj9FeHBpcmVzPTE2NDQ5MjA2ODNcdTAwMjZHb29nbGVBY2Nlc3NJZD1jb21wdXRlLWdjcy1zdmNhY2MlNDBwbGFuZXQtY29tcHV0ZS1wcm9kLmlhbS5nc2VydmljZWFjY291bnQuY29tXHUwMDI2U2lnbmF0dXJlPVFBZ05xTjVXeUFYZ3NNVmF3ODh2Tjg3OVRab0F2b2FvU1hmY3doWEtlUUhUU2cwUDFBZzdWWWhqRFA0TlMwemZqMzRkemIwSjZZVk5xT1J2YTFBWjUzeUY5RmN3djdRYTdROWVONWxoMFo5TGVMYktxMzdNNVolMkY2TlpsYnJhZ0Q4dG5LZ0Exc3hLQVpwSkZaeSUyQlBBQnhmN3F1Q0NFM09vQXMyYkY3YXFzbE9OeVhGTWduVU15bWZ2NUhGdVczUEdUcHdzOG04YmlCMHB4WCUyQjg2V1BkU2Y2WHBDMm5nc3dMdWFSTm4wblRsVVN5NVNaWWRWMHRjamNBeWJaJTJCSUlhSGtwOThudjNCVSUyQm5GSmJvMnhUS0lSU21VTjJTbUNCVXNwR2ZiUzljRk1oMURyZ3VEV3lmcklyWDRYJTJGckcxWXBTZkcyMnRLTngzMFRnVFpVU3hjRjFYdyUzRCUzRCIsInNvdXJjZSI6Ik9yZGVycyBTZXJ2aWNlIn0.RkTL8d8kLXmW9XEBmbt2hvM8fk6js7Xs_D2gTVS6lG3PkVJ6MPEqqMzcLobRbdj3FjJEvytwU_xeyLQHlYUXFA',\n",
      "                         'name': '20190608_173403_0f2d_3B_AnalyticMS_SR.tif'},\n",
      "                        {'delivery': 'success',\n",
      "                         'expires_at': '2022-02-15T10:24:43.449Z',\n",
      "                         'location': 'https://api.planet.com/compute/ops/download/?token=eyJhbGciOiJIUzUxMiIsInR5cCI6IkpXVCJ9.eyJleHAiOjE2NDQ5MjA2ODMsInN1YiI6IjdQOGV3VnlNRVpmb2RYVEhVL0g0MURvTDQ2V2dKdjBuR1VLSVNZWTFkWURQWm9SRlJJZzhvOU8ySk5hUExhMi8zYllrdlF2UDczRnNlZ2d0SXlIeTVRPT0iLCJ0b2tlbl90eXBlIjoiZG93bmxvYWQtYXNzZXQtc3RhY2siLCJhb2kiOiIiLCJhc3NldHMiOlt7Iml0ZW1fdHlwZSI6IiIsImFzc2V0X3R5cGUiOiIiLCJpdGVtX2lkIjoiIn1dLCJ1cmwiOiJodHRwczovL3N0b3JhZ2UuZ29vZ2xlYXBpcy5jb20vY29tcHV0ZS1vcmRlcnMtbGl2ZS8yMDE5MDYwOF8xODM0MjJfMTAwNV8zQl9BbmFseXRpY01TX1NSLnRpZj9FeHBpcmVzPTE2NDQ5MjA2ODNcdTAwMjZHb29nbGVBY2Nlc3NJZD1jb21wdXRlLWdjcy1zdmNhY2MlNDBwbGFuZXQtY29tcHV0ZS1wcm9kLmlhbS5nc2VydmljZWFjY291bnQuY29tXHUwMDI2U2lnbmF0dXJlPUtsJTJGMEJUZGp0RzA3d3NkdGVWU0I1Q1d2UnNLZDZ3eUpIdGliSmZsWkpNQWUlMkJHSG5MMG1IWTAzaSUyRjFjbklIdHZ3S3FCa3JHaFNWQ0JYVmFkbzYlMkJ1ZjJyVXZDMGxIbHV3WVU5JTJGWU5Fa04xQ05FcXFMZjRCRjdGQVpIS1FFNlJleTJGb0d5dGpnSWxkT3I2M255WXYyUCUyRk4yZE1RekMlMkJ5Wnk2eVpwTWxLQ3dvWGZhYUxEZ1Z4cjE4eXM1WjN0RnZYSzdpV29yJTJCb2NHT1E2Y2JDRWh6bDFIU3ZQdGwyOHVmYkZ0R2p3WmJtMndTTUFzOW1oRmIlMkJCclZ5aTZZTnpaMG5YeFVCcDRLV002JTJCYnJNenJPZ2VCNnFvbW1jZExnV0NXN1VuR0x0bE9ZUnRrTGY2JTJCNjZ0eTdmN1ZyVHZKZE45NTVHblB0Tm9HYkc0SGVEOUZBQ2hDUkElM0QlM0QiLCJzb3VyY2UiOiJPcmRlcnMgU2VydmljZSJ9.kXrc1zesr3FcnmVfLoXZ1hAlvyB2EHy4BG5y66KM8EmZV67--k6sJNwYtIsxYe5MMIVhAnDWR4bFcIhVs7wQHg',\n",
      "                         'name': '20190608_183422_1005_3B_AnalyticMS_SR.tif'}]},\n",
      " 'created_on': '2022-02-14T10:01:14.607Z',\n",
      " 'delivery': {'google_earth_engine': {'collection': 'mendoJune2019',\n",
      "                                      'credentials': '<REDACTED>',\n",
      "                                      'project': 'planet-projects'}},\n",
      " 'error_hints': [],\n",
      " 'id': 'd46d1609-6c22-4034-9905-1e0da633fbdf',\n",
      " 'last_message': 'Delivery completed',\n",
      " 'last_modified': '2022-02-14T10:24:13.024Z',\n",
      " 'name': 'Mendocino Complex June 2019',\n",
      " 'products': [{'item_ids': ['20190608_183422_1005',\n",
      "                            '20190608_173404_0f2d',\n",
      "                            '20190608_173403_0f2d',\n",
      "                            '20190608_173402_0f2d',\n",
      "                            '20190608_183424_1005',\n",
      "                            '20190608_183423_1005'],\n",
      "               'item_type': 'PSScene4Band',\n",
      "               'product_bundle': 'analytic_sr_udm2'}],\n",
      " 'state': 'success'}\n"
     ]
    }
   ],
   "source": [
    "direct_order_id = direct_order_results.get()['id']\n",
    "direct_order_status = client.get_individual_order(direct_order_id)\n",
    "pprint(direct_order_status.get())"
   ]
  },
  {
   "cell_type": "markdown",
   "id": "27dbafd6",
   "metadata": {},
   "source": [
    "GEE ingestion of data delivered to a GCS bucket.\n",
    "\n",
    "This is specificially an example of ordering 8-band PSScene data to be delivered to a GCS bucket to be ingested into GEE. The same general workflow can be used for data of any item type. See here for more information aboutn configuring your GCS bucket for delivery. https://developers.planet.com/docs/orders/delivery/#delivery-to-google-cloud-storage"
   ]
  },
  {
   "cell_type": "markdown",
   "id": "b4676244",
   "metadata": {},
   "source": [
    "# Utility functions"
   ]
  },
  {
   "cell_type": "code",
   "execution_count": 17,
   "id": "998a22a9",
   "metadata": {},
   "outputs": [],
   "source": [
    "def list_scenes(geom, toi_start=None, toi_end=None, cloud_pct=50.0, sat_type=\"PSB.SD\"):\n",
    "    \"\"\"Accepts: \n",
    "       - AOI (geojson geometry string)\n",
    "       - TOI beginning (ISO format)\n",
    "       - TOI end (ISO format)\n",
    "       - Cloud cover percentage (float)\n",
    "       - Instrument type (string)\n",
    "\n",
    "       Generates filters, searches for scenes.\n",
    "       \n",
    "       Returns list of scenes.\n",
    "    \"\"\"\n",
    "    filters = []\n",
    "    filters.append(api.filters.geom_filter(geom))\n",
    "    if toi_start:\n",
    "        filters.append(api.filters.date_range('acquired',gte=toi_start))\n",
    "    if toi_end:\n",
    "        filters.append(api.filters.date_range('acquired',lte=toi_end))\n",
    "    filters.append(api.filters.range_filter('cloud_percent', lt=50.0))\n",
    "    filters.append(api.filters.string_filter('instrument', 'PSB.SD'))\n",
    "    all_filts = api.filters.and_filter(*filters)\n",
    "    request = api.filters.build_search_request(all_filts,item_types=['PSScene'])\n",
    "    results = client.quick_search(request)\n",
    "    scenes = []\n",
    "    for page in results.iter():\n",
    "        for item in page.items_iter(limit=None):\n",
    "            scenes.append(item)\n",
    "    return scenes"
   ]
  },
  {
   "cell_type": "code",
   "execution_count": 18,
   "id": "2ea44ea2",
   "metadata": {},
   "outputs": [
    {
     "ename": "SyntaxError",
     "evalue": "non-default argument follows default argument (<ipython-input-18-7d5c46e39ff2>, line 1)",
     "output_type": "error",
     "traceback": [
      "\u001b[1;36m  File \u001b[1;32m\"<ipython-input-18-7d5c46e39ff2>\"\u001b[1;36m, line \u001b[1;32m1\u001b[0m\n\u001b[1;33m    def order_scenes(scenes, order_name, geom=None, bucket, creds):\u001b[0m\n\u001b[1;37m                    ^\u001b[0m\n\u001b[1;31mSyntaxError\u001b[0m\u001b[1;31m:\u001b[0m non-default argument follows default argument\n"
     ]
    }
   ],
   "source": [
    "def order_scenes(scenes, order_name, geom=None, bucket, creds):\n",
    "    \"\"\"\n",
    "        Accepts:\n",
    "        - List of scene IDs (list of strings)\n",
    "        - Order name (string)\n",
    "        - (Optional) AOI for clipping (geojson geometry string)\n",
    "        - GCS bucket name (string)\n",
    "        - GCS bucket credentials (string)\n",
    "            Credentials must be converted to base64 first. See here:\n",
    "            https://developers.planet.com/docs/orders/delivery/#delivery-to-google-cloud-storage\n",
    "\n",
    "        Returns a client order object\n",
    "    \"\"\"\n",
    "\n",
    "    order_json = {  \n",
    "        \"name\": order_name,\n",
    "        \"order_type\": \"partial\",\n",
    "        \"products\":[\n",
    "            {  \n",
    "                \"item_ids\": scenes,\n",
    "                \"item_type\": 'PSScene',\n",
    "                \"product_bundle\": 'analytic_8b_sr_udm2'\n",
    "            }\n",
    "        ],\n",
    "        \"delivery\": {\n",
    "            \"google_cloud_storage\": {\n",
    "                \"bucket\": bucket,\n",
    "                \"credentials\": creds\n",
    "                \n",
    "            }\n",
    "        },\n",
    "        \"notifications\":{\n",
    "            \"email\":True\n",
    "        }\n",
    "    }\n",
    "    if geom:\n",
    "        order_json['tools'] = [\n",
    "            {\n",
    "                \"clip\": {\n",
    "                    \"aoi\": geom\n",
    "                }\n",
    "            }\n",
    "        ]\n",
    "\n",
    "    #pprint(order_json)\n",
    "    results = client.create_order(order_json)\n",
    "    return results"
   ]
  },
  {
   "cell_type": "markdown",
   "id": "7872ecc5",
   "metadata": {},
   "source": [
    "Edit `base_name`  below with the details of your target GEE project and asset."
   ]
  },
  {
   "cell_type": "code",
   "execution_count": 19,
   "id": "95d8220d",
   "metadata": {
    "tags": []
   },
   "outputs": [],
   "source": [
    "def get_scene(scene_id):\n",
    "  \"\"\"\n",
    "    Accepts a single scene ID string.\n",
    "    Returns scene metadata.\n",
    "  \"\"\"\n",
    "  request = api.filters.build_search_request(api.filters.string_filter('id',scene_id),item_types=['PSScene'])\n",
    "  result = client.quick_search(request)\n",
    "  items = []\n",
    "  for page in result.iter():\n",
    "      for item in page.items_iter(limit=None):\n",
    "          items.append(item)\n",
    "  return items[0]\n",
    "    \n",
    "def scene_manifest(scene_id, order_id, bucket):\n",
    "  \"\"\"\n",
    "    Accepts:\n",
    "    - A single scene ID (string)\n",
    "    - Order ID (string)\n",
    "    - GCS bucket (string)\n",
    "\n",
    "    Returns string containing a GEE upload manifest.\n",
    "  \"\"\"\n",
    "  #base_name = \"projects/earthengine-legacy/assets/projects/pre-sales-demos-313313/assets/\"\n",
    "  base_name = \"projects/GEE_PROJECT_NAME/assets/GEE_ASSET_NAME/\"\n",
    "  scene = get_scene(scene_id)\n",
    "  scene['properties']['ground_control'] = str(scene['properties']['ground_control'])\n",
    "  manifest_name = base_name + \"{}\".format(scene_id)\n",
    "  manifest = {\n",
    "      \"name\": manifest_name,\n",
    "      \"tilesets\": [\n",
    "          {\n",
    "              \"id\": \"data_tileset\",\n",
    "              \"sources\": [\n",
    "              {\n",
    "                \"uris\": [\n",
    "                  \"gs://{}/{}/PSScene/{}_3B_AnalyticMS_SR_8b_clip.tif\".format(bucket, order_id, scene_id)\n",
    "                  #\"gs://{}/{}/PSScene/{}_3B_AnalyticMS_8b.tif\".format(bucket, order_id, scene_id)\n",
    "                ]\n",
    "              }\n",
    "              ]\n",
    "          },\n",
    "          {\n",
    "              \"id\": \"udm_tileset\",\n",
    "              \"sources\": [\n",
    "              {\n",
    "                \"uris\": [\n",
    "                  \"gs://{}/{}/PSScene/{}_3B_udm2_clip.tif\".format(bucket, order_id, scene_id)\n",
    "                ]\n",
    "              }\n",
    "              ]\n",
    "          }\n",
    "      ],\n",
    "      \"properties\": scene['properties'],\n",
    "      \"start_time\": scene['properties']['acquired'],\n",
    "      \"end_time\": scene['properties']['acquired']\n",
    "  }\n",
    "  manifest['properties']['id'] = scene_id\n",
    "  return manifest"
   ]
  },
  {
   "cell_type": "markdown",
   "id": "765c2df4",
   "metadata": {},
   "source": [
    "# Actual workflow"
   ]
  },
  {
   "cell_type": "code",
   "execution_count": 32,
   "id": "7016fe5e",
   "metadata": {},
   "outputs": [
    {
     "ename": "FileNotFoundError",
     "evalue": "[Errno 2] No such file or directory: 'dixieExtents.geojson'",
     "output_type": "error",
     "traceback": [
      "\u001b[1;31m---------------------------------------------------------------------------\u001b[0m",
      "\u001b[1;31mFileNotFoundError\u001b[0m                         Traceback (most recent call last)",
      "\u001b[1;32m<ipython-input-32-d7b3adf69a5e>\u001b[0m in \u001b[0;36m<module>\u001b[1;34m\u001b[0m\n\u001b[0;32m      6\u001b[0m \u001b[1;33m\u001b[0m\u001b[0m\n\u001b[0;32m      7\u001b[0m \u001b[1;31m# Build order over AOIs\u001b[0m\u001b[1;33m\u001b[0m\u001b[1;33m\u001b[0m\u001b[1;33m\u001b[0m\u001b[0m\n\u001b[1;32m----> 8\u001b[1;33m \u001b[1;32mwith\u001b[0m \u001b[0mopen\u001b[0m\u001b[1;33m(\u001b[0m\u001b[1;34m\"dixieExtents.geojson\"\u001b[0m\u001b[1;33m)\u001b[0m \u001b[1;32mas\u001b[0m \u001b[0mfilein\u001b[0m\u001b[1;33m:\u001b[0m\u001b[1;33m\u001b[0m\u001b[1;33m\u001b[0m\u001b[0m\n\u001b[0m\u001b[0;32m      9\u001b[0m     \u001b[0maoi_features\u001b[0m \u001b[1;33m=\u001b[0m \u001b[0mjson\u001b[0m\u001b[1;33m.\u001b[0m\u001b[0mload\u001b[0m\u001b[1;33m(\u001b[0m\u001b[0mfilein\u001b[0m\u001b[1;33m)\u001b[0m\u001b[1;33m[\u001b[0m\u001b[1;34m'features'\u001b[0m\u001b[1;33m]\u001b[0m\u001b[1;33m\u001b[0m\u001b[1;33m\u001b[0m\u001b[0m\n\u001b[0;32m     10\u001b[0m \u001b[1;33m\u001b[0m\u001b[0m\n",
      "\u001b[1;31mFileNotFoundError\u001b[0m: [Errno 2] No such file or directory: 'dixieExtents.geojson'"
     ]
    }
   ],
   "source": [
    "# Set up order delivery\n",
    "\n",
    "# Change values to suit\n",
    "order_name = 'DixieFire'\n",
    "bucket_name = \"pfed-gee-ingest\"\n",
    "\n",
    "# Build order over AOIs\n",
    "with open(\"dixieExtents.geojson\") as filein:\n",
    "    aoi_features = json.load(filein)['features']\n",
    "\n",
    "# There are multiple AOIs in the layer. Each contains an end date. Iterate over \n",
    "# the AOIs, pull TOI from feature. Create order. Store order objects to \n",
    "# order_results.\n",
    "order_results = {}\n",
    "\n",
    "for i in range(len(aoi_features)):\n",
    "    geom = aoi_features[i]['geometry']\n",
    "    end_date = aoi_features[i]['properties']['EndDate'].replace('/','-')\n",
    "    if i == 0:\n",
    "        start_date = '2021-07-10'\n",
    "    else:\n",
    "        start_date = aoi_features[i-1]['properties']['EndDate'].replace('/','-')\n",
    "    \n",
    "    scenes = list_scenes(geom, start_date, end_date)\n",
    "    scene_ids = [scene['id'] for scene in scenes]\n",
    "    sub_order_name = order_name + end_date\n",
    "    order_result = order_scenes(scene_ids,sub_order_name,bucket_name)\n",
    "    order_results[order_result.get()['id']] = {\n",
    "        \"name\": sub_order_name,\n",
    "        \"scenes\": scenes,\n",
    "        \"result\": order_result,\n",
    "        \"start\": start_date,\n",
    "        \"end\": end_date\n",
    "        \n",
    "    }"
   ]
  },
  {
   "cell_type": "code",
   "execution_count": 26,
   "id": "01e9d1e4",
   "metadata": {},
   "outputs": [],
   "source": [
    "# Check on status of all orders.\n",
    "for key in order_results.keys():\n",
    "    status = client.get_individual_order(order_results[key]['result'].get()['id']).get()\n",
    "    pprint(status['id'])\n",
    "    pprint(status['state'])\n",
    "    pprint(status['last_message'])\n",
    "    #pprint(status)"
   ]
  },
  {
   "cell_type": "code",
   "execution_count": 27,
   "id": "0ec4106e",
   "metadata": {},
   "outputs": [],
   "source": [
    "# Generate earthengine upload manifests for each scene\n",
    "for key in order_results.keys():\n",
    "    for scene in order_results[key]['result'].get()['products'][0]['item_ids']:\n",
    "        manifest = scene_manifest(scene,order_name,key,bucket_name)\n",
    "        \n",
    "        with open('manifests/{}.json'.format(scene),'w') as fileout:\n",
    "            json.dump(manifest,fileout)"
   ]
  },
  {
   "cell_type": "code",
   "execution_count": 28,
   "id": "b3f24428",
   "metadata": {},
   "outputs": [],
   "source": [
    "# Create bash script to run all generated manifest uploads.\n",
    "# May need to set execution permissions before running script. e.g.:\n",
    "#\n",
    "# > chmod +x MyManifestScript.sh\n",
    "# > ./MyManifestScript.sh\n",
    "for key in order_results.keys():\n",
    "    with open(\"{}.sh\".format(key),'w') as filein:\n",
    "        filein.write(\"#!/bin/bash\\n\")\n",
    "        for scene in order_results[key]['result'].get()['products'][0]['item_ids']:\n",
    "            upcom = \"earthengine upload image --manifest manifests/{}.json\\n\".format(\n",
    "                    scene)\n",
    "            filein.write(upcom)"
   ]
  },
  {
   "cell_type": "code",
   "execution_count": null,
   "id": "453572c7",
   "metadata": {},
   "outputs": [],
   "source": []
  }
 ],
 "metadata": {
  "kernelspec": {
   "display_name": "Python 3 (ipykernel)",
   "language": "python",
   "name": "python3"
  },
  "language_info": {
   "codemirror_mode": {
    "name": "ipython",
    "version": 3
   },
   "file_extension": ".py",
   "mimetype": "text/x-python",
   "name": "python",
   "nbconvert_exporter": "python",
   "pygments_lexer": "ipython3",
   "version": "3.9.7"
  }
 },
 "nbformat": 4,
 "nbformat_minor": 5
}
