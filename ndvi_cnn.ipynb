{
 "cells": [
  {
   "cell_type": "code",
   "execution_count": 1,
   "metadata": {},
   "outputs": [],
   "source": [
    "import pandas as pd\n",
    "import numpy as np\n",
    "import matplotlib.pyplot as plt"
   ]
  },
  {
   "cell_type": "code",
   "execution_count": 2,
   "metadata": {},
   "outputs": [],
   "source": [
    "# define a training class table with classes as columns and image ids as rows"
   ]
  },
  {
   "cell_type": "code",
   "execution_count": null,
   "metadata": {},
   "outputs": [],
   "source": [
    "# put all training images into a folder in current directory labeled 'training_images'\n",
    "# check that there are the same number of images in the training_images folder\n",
    "\n",
    "import os\n",
    "def listdir_nohidden(path):\n",
    "    for f in os.listdir(path):\n",
    "        if not f.startswith('.'):\n",
    "            yield f\n",
    "\n",
    "img_list = list(listdir_nohidden('training_images'))\n",
    "number_files = len(img_list)\n",
    "print(number_files)"
   ]
  },
  {
   "cell_type": "code",
   "execution_count": null,
   "metadata": {},
   "outputs": [],
   "source": [
    "# generate 25 random images and plot them to visually check out the data\n",
    "import random\n",
    "sample_img_list = random.sample(img_list, 25)\n",
    "\n",
    "fig, axes = plt.subplots(nrows=5,ncols=5, figsize=(25,25))\n",
    "for i, ax in enumerate(axes.flatten()):\n",
    "    ax.set_title(str(sample_img_list[i]))\n",
    "    ax.imshow(plt.imread('training_images/'+sample_img_list[i]))\n",
    "plt.show()  "
   ]
  },
  {
   "cell_type": "code",
   "execution_count": null,
   "metadata": {},
   "outputs": [],
   "source": [
    "# plot distributions of the training labels\n",
    "\n",
    "labels = ['fire', 'no-fire']\n",
    "\n",
    "fig, axes = plt.subplots(nrows=1, cols=2, figsize=(10,10))\n",
    "for i, ax in enumerate(axes.flatten()):\n",
    "    if i>36:\n",
    "        break\n",
    "    vals = tr_class_table.iloc[:,i+1]\n",
    "    label = labels[i]\n",
    "    ax.hist(vals, bins=50, density=1)\n",
    "    ax.set_title(label)\n",
    "plt.show()    "
   ]
  },
  {
   "cell_type": "code",
   "execution_count": null,
   "metadata": {},
   "outputs": [],
   "source": [
    "# plot the image in the training set that is the prototype of each label\n",
    "fig, axes = plt.subplots(nrows=1,ncols=2, figsize=(10,10))\n",
    "for i, ax in enumerate(axes.flatten()):\n",
    "    if i>2:\n",
    "        break\n",
    "    index = tr_class_table.iloc[:,i].idxmax()\n",
    "    gal_id = tr_class_table.iloc[:,0][index]\n",
    "    ax.imshow(plt.imread('training_images/'+str(gal_id)+'.jpg'))\n",
    "    ax.set_title(labels[i-1]+' (id:'+str(gal_id)+')')\n",
    "plt.show() "
   ]
  },
  {
   "cell_type": "code",
   "execution_count": null,
   "metadata": {},
   "outputs": [],
   "source": [
    "# Plot the correlation matrix of all labels in the training set\n",
    "p_matrix = tr_class_table.iloc[:,1:].corr()\n",
    "\n",
    "plt.figure(figsize=(5,5))\n",
    "plt.imshow(p_matrix)\n",
    "plt.xticks([1,2])\n",
    "plt.yticks([1,2])\n",
    "plt.show()\n",
    "\n",
    "# purple is 0 and yellow is 1"
   ]
  },
  {
   "cell_type": "code",
   "execution_count": null,
   "metadata": {},
   "outputs": [],
   "source": [
    "# code adapted from https://opensource.com/life/15/2/resize-images-python\n",
    "from PIL import Image\n",
    "\n",
    "#define a downsizing function which will save new downsized images\n",
    "def downsize(img, name):\n",
    "    new_img = img[100:-100,100:-100]\n",
    "    img_file = Image.fromarray(new_img, \"RGB\")\n",
    "    basewidth = 20\n",
    "    wpercent = (basewidth / float(img_file.size[0]))\n",
    "    hsize = int((float(img_file.size[1]) * float(wpercent)))\n",
    "    img_file = img_file.resize((basewidth, hsize), Image.ANTIALIAS)\n",
    "    img_file.save('downsized_training_images/d_'+name)"
   ]
  },
  {
   "cell_type": "code",
   "execution_count": null,
   "metadata": {},
   "outputs": [],
   "source": [
    "# plot an example image before downsizing\n",
    "ex_img = plt.imread('training_images/100008.jpg')\n",
    "plt.imshow(ex_img)\n",
    "plt.title('before downsize')\n",
    "plt.show()"
   ]
  },
  {
   "cell_type": "code",
   "execution_count": null,
   "metadata": {},
   "outputs": [],
   "source": [
    "#downsize the example image\n",
    "downsize(ex_img, '100008.jpg')"
   ]
  },
  {
   "cell_type": "code",
   "execution_count": null,
   "metadata": {},
   "outputs": [],
   "source": [
    "# plot downsized example image\n",
    "d_ex_img = plt.imread('downsized_training_images/d_100008.jpg')\n",
    "plt.imshow(d_ex_img)\n",
    "plt.title('after downsize')\n",
    "plt.show()"
   ]
  },
  {
   "cell_type": "code",
   "execution_count": null,
   "metadata": {},
   "outputs": [],
   "source": [
    "# downsize every image\n",
    "for file_name in img_list:\n",
    "    img = plt.imread('training_images/'+file_name)\n",
    "    downsize(img, file_name)"
   ]
  },
  {
   "cell_type": "code",
   "execution_count": null,
   "metadata": {},
   "outputs": [],
   "source": [
    "# check to see that it worked on all the images\n",
    "len(os.listdir('downsized_training_images')) == len(img_list)"
   ]
  }
 ],
 "metadata": {
  "kernelspec": {
   "display_name": "Python 3 (ipykernel)",
   "language": "python",
   "name": "python3"
  },
  "language_info": {
   "codemirror_mode": {
    "name": "ipython",
    "version": 3
   },
   "file_extension": ".py",
   "mimetype": "text/x-python",
   "name": "python",
   "nbconvert_exporter": "python",
   "pygments_lexer": "ipython3",
   "version": "3.9.7"
  }
 },
 "nbformat": 4,
 "nbformat_minor": 4
}
